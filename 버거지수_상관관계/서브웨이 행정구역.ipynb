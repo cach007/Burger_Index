{
 "cells": [
  {
   "cell_type": "code",
   "execution_count": 35,
   "metadata": {},
   "outputs": [
    {
     "data": {
      "text/html": [
       "<div>\n",
       "<style scoped>\n",
       "    .dataframe tbody tr th:only-of-type {\n",
       "        vertical-align: middle;\n",
       "    }\n",
       "\n",
       "    .dataframe tbody tr th {\n",
       "        vertical-align: top;\n",
       "    }\n",
       "\n",
       "    .dataframe thead th {\n",
       "        text-align: right;\n",
       "    }\n",
       "</style>\n",
       "<table border=\"1\" class=\"dataframe\">\n",
       "  <thead>\n",
       "    <tr style=\"text-align: right;\">\n",
       "      <th></th>\n",
       "      <th>이름</th>\n",
       "      <th>주소</th>\n",
       "    </tr>\n",
       "  </thead>\n",
       "  <tbody>\n",
       "    <tr>\n",
       "      <th>0</th>\n",
       "      <td>인천계양구청점</td>\n",
       "      <td>인천 계양구 계산새로 85(지번) 용종동 210-6</td>\n",
       "    </tr>\n",
       "    <tr>\n",
       "      <th>1</th>\n",
       "      <td>인천부평중앙점</td>\n",
       "      <td>인천 부평구 부평문화로 63(지번) 부평동 212-67</td>\n",
       "    </tr>\n",
       "    <tr>\n",
       "      <th>2</th>\n",
       "      <td>인천부평시장역점</td>\n",
       "      <td>인천 부평구 부흥로 264(지번) 부평동 529-40</td>\n",
       "    </tr>\n",
       "    <tr>\n",
       "      <th>3</th>\n",
       "      <td>인천삼산점</td>\n",
       "      <td>인천 부평구 체육관로 24(지번) 삼산동 462-5</td>\n",
       "    </tr>\n",
       "    <tr>\n",
       "      <th>4</th>\n",
       "      <td>일산산들점</td>\n",
       "      <td>경기 고양시 일산서구 일중로 46 엑셀런트빌딩 103호(지번) 일산동 1681-1</td>\n",
       "    </tr>\n",
       "  </tbody>\n",
       "</table>\n",
       "</div>"
      ],
      "text/plain": [
       "         이름                                             주소\n",
       "0   인천계양구청점                   인천 계양구 계산새로 85(지번) 용종동 210-6\n",
       "1   인천부평중앙점                 인천 부평구 부평문화로 63(지번) 부평동 212-67\n",
       "2  인천부평시장역점                  인천 부평구 부흥로 264(지번) 부평동 529-40\n",
       "3     인천삼산점                   인천 부평구 체육관로 24(지번) 삼산동 462-5\n",
       "4     일산산들점  경기 고양시 일산서구 일중로 46 엑셀런트빌딩 103호(지번) 일산동 1681-1"
      ]
     },
     "execution_count": 35,
     "metadata": {},
     "output_type": "execute_result"
    }
   ],
   "source": [
    "import pandas as pd\n",
    "pd.set_option('mode.chained_assignment',  None) # Warning 방지용\n",
    "import numpy as np\n",
    "\n",
    "data = pd.read_csv('./final/subway.csv', index_col=0, encoding='UTF-8', engine='python')\n",
    "\n",
    "data.head() #작업내용 확인용 출력"
   ]
  },
  {
   "cell_type": "code",
   "execution_count": 36,
   "metadata": {},
   "outputs": [
    {
     "data": {
      "text/html": [
       "<div>\n",
       "<style scoped>\n",
       "    .dataframe tbody tr th:only-of-type {\n",
       "        vertical-align: middle;\n",
       "    }\n",
       "\n",
       "    .dataframe tbody tr th {\n",
       "        vertical-align: top;\n",
       "    }\n",
       "\n",
       "    .dataframe thead th {\n",
       "        text-align: right;\n",
       "    }\n",
       "</style>\n",
       "<table border=\"1\" class=\"dataframe\">\n",
       "  <thead>\n",
       "    <tr style=\"text-align: right;\">\n",
       "      <th></th>\n",
       "      <th>시도</th>\n",
       "      <th>군구</th>\n",
       "    </tr>\n",
       "  </thead>\n",
       "  <tbody>\n",
       "    <tr>\n",
       "      <th>0</th>\n",
       "      <td>인천</td>\n",
       "      <td>계양구</td>\n",
       "    </tr>\n",
       "    <tr>\n",
       "      <th>1</th>\n",
       "      <td>인천</td>\n",
       "      <td>부평구</td>\n",
       "    </tr>\n",
       "    <tr>\n",
       "      <th>2</th>\n",
       "      <td>인천</td>\n",
       "      <td>부평구</td>\n",
       "    </tr>\n",
       "    <tr>\n",
       "      <th>3</th>\n",
       "      <td>인천</td>\n",
       "      <td>부평구</td>\n",
       "    </tr>\n",
       "    <tr>\n",
       "      <th>4</th>\n",
       "      <td>경기</td>\n",
       "      <td>고양시</td>\n",
       "    </tr>\n",
       "  </tbody>\n",
       "</table>\n",
       "</div>"
      ],
      "text/plain": [
       "   시도   군구\n",
       "0  인천  계양구\n",
       "1  인천  부평구\n",
       "2  인천  부평구\n",
       "3  인천  부평구\n",
       "4  경기  고양시"
      ]
     },
     "execution_count": 36,
     "metadata": {},
     "output_type": "execute_result"
    }
   ],
   "source": [
    "addr = pd.DataFrame(data['주소'].apply(lambda v: v.split()[:2]).tolist(),columns=('시도', '군구'))\n",
    "\n",
    "addr.head()  #작업내용 확인용 출력"
   ]
  },
  {
   "cell_type": "code",
   "execution_count": 37,
   "metadata": {},
   "outputs": [
    {
     "data": {
      "text/plain": [
       "array(['인천', '경기', '서울', '충남', '충북', '세종특별자치시', '대전', '전북', '대구', '경남',\n",
       "       '광주', '경북', '전남', '강원', '울산', '부산', '제주특별자치도'], dtype=object)"
      ]
     },
     "execution_count": 37,
     "metadata": {},
     "output_type": "execute_result"
    }
   ],
   "source": [
    "addr['시도'].unique()"
   ]
  },
  {
   "cell_type": "code",
   "execution_count": 38,
   "metadata": {},
   "outputs": [],
   "source": [
    "addr_aliases = {'경기':'경기도', '경남':'경상남도', '경북':'경상북도', '충북':'충청북도', '인천':'인천광역시', '서울':'서울특별시', '강원':'강원도', '울산':'울산광역시', '대구':'대구광역시', '광주':'광주광역시', '부산':'부산광역시', '대전':'대전광역시', '충남':'충청남도', '전남':'전라남도', '전북':'전라북도'}"
   ]
  },
  {
   "cell_type": "code",
   "execution_count": 39,
   "metadata": {},
   "outputs": [],
   "source": [
    "addr['시도']= addr['시도'].apply(lambda v: addr_aliases.get(v, v))"
   ]
  },
  {
   "cell_type": "code",
   "execution_count": 40,
   "metadata": {},
   "outputs": [
    {
     "data": {
      "text/plain": [
       "array(['인천광역시', '경기도', '서울특별시', '충청남도', '충청북도', '세종특별자치시', '대전광역시',\n",
       "       '전라북도', '대구광역시', '경상남도', '광주광역시', '경상북도', '전라남도', '강원도', '울산광역시',\n",
       "       '부산광역시', '제주특별자치도'], dtype=object)"
      ]
     },
     "execution_count": 40,
     "metadata": {},
     "output_type": "execute_result"
    }
   ],
   "source": [
    "addr['시도'].unique()"
   ]
  },
  {
   "cell_type": "code",
   "execution_count": 41,
   "metadata": {},
   "outputs": [
    {
     "data": {
      "text/plain": [
       "array(['계양구', '부평구', '고양시', '미추홀구', '부천시', '강서구', '중구', '남동구', '양천구',\n",
       "       '마포구', '은평구', '연수구', '영등포구', '구로구', '서대문구', '금천구', '시흥시', '광명시',\n",
       "       '종로구', '관악구', '동작구', '용산구', '강북구', '강남구', '성북구', '서초구', '노원구',\n",
       "       '동대문구', '성동구', '의정부시', '도봉구', '안양시', '중랑구', '광진구', '안산시', '송파구',\n",
       "       '군포시', '강동구', '양주시', '남양주시', '성남시', '의왕시', '수원시', '동두천시', '용인시',\n",
       "       '하남시', '화성시', '오산시', '평택시', '당진시', '서산시', '천안시', '안성시', '아산시',\n",
       "       '청주시', '절재로', '공주시', '한누리대로', '유성구', '서구', '대덕구', '동구', '군산시',\n",
       "       '논산시', '전주시', '달서구', '북구', '수성구', '거창군', '남구', '광산구', '달성군', '경산시',\n",
       "       '진주시', '나주시', '포항시', '목포시', '창원시', '태백시', '김해시', '울주군', '부산진구',\n",
       "       '동래구', '연제구', '무안군', '양산시', '사상구', '기장군', '해운대구', '수영구', '금정구',\n",
       "       '사하구', '제주시', '통영시', '거제시', '영도구'], dtype=object)"
      ]
     },
     "execution_count": 41,
     "metadata": {},
     "output_type": "execute_result"
    }
   ],
   "source": [
    "addr['군구'].unique()"
   ]
  },
  {
   "cell_type": "code",
   "execution_count": 42,
   "metadata": {},
   "outputs": [
    {
     "data": {
      "text/html": [
       "<div>\n",
       "<style scoped>\n",
       "    .dataframe tbody tr th:only-of-type {\n",
       "        vertical-align: middle;\n",
       "    }\n",
       "\n",
       "    .dataframe tbody tr th {\n",
       "        vertical-align: top;\n",
       "    }\n",
       "\n",
       "    .dataframe thead th {\n",
       "        text-align: right;\n",
       "    }\n",
       "</style>\n",
       "<table border=\"1\" class=\"dataframe\">\n",
       "  <thead>\n",
       "    <tr style=\"text-align: right;\">\n",
       "      <th></th>\n",
       "      <th>시도</th>\n",
       "      <th>군구</th>\n",
       "    </tr>\n",
       "  </thead>\n",
       "  <tbody>\n",
       "    <tr>\n",
       "      <th>326</th>\n",
       "      <td>세종특별자치시</td>\n",
       "      <td>한누리대로</td>\n",
       "    </tr>\n",
       "  </tbody>\n",
       "</table>\n",
       "</div>"
      ],
      "text/plain": [
       "          시도     군구\n",
       "326  세종특별자치시  한누리대로"
      ]
     },
     "execution_count": 42,
     "metadata": {},
     "output_type": "execute_result"
    }
   ],
   "source": [
    "addr[addr['군구'] == '한누리대로']"
   ]
  },
  {
   "cell_type": "code",
   "execution_count": 43,
   "metadata": {},
   "outputs": [],
   "source": [
    "addr.iloc[326] = ['세종특별자치시', '세종시']"
   ]
  },
  {
   "cell_type": "code",
   "execution_count": 44,
   "metadata": {},
   "outputs": [
    {
     "data": {
      "text/plain": [
       "시도    세종특별자치시\n",
       "군구        세종시\n",
       "Name: 326, dtype: object"
      ]
     },
     "execution_count": 44,
     "metadata": {},
     "output_type": "execute_result"
    }
   ],
   "source": [
    "addr.iloc[2]"
   ]
  },
  {
   "cell_type": "code",
   "execution_count": 45,
   "metadata": {},
   "outputs": [
    {
     "data": {
      "text/plain": [
       "array(['인천광역시', '경기도', '서울특별시', '충청남도', '충청북도', '세종특별자치시', '대전광역시',\n",
       "       '전라북도', '대구광역시', '경상남도', '광주광역시', '경상북도', '전라남도', '강원도', '울산광역시',\n",
       "       '부산광역시', '제주특별자치도'], dtype=object)"
      ]
     },
     "execution_count": 45,
     "metadata": {},
     "output_type": "execute_result"
    }
   ],
   "source": [
    "addr['시도'].unique()"
   ]
  },
  {
   "cell_type": "code",
   "execution_count": 46,
   "metadata": {
    "scrolled": false
   },
   "outputs": [
    {
     "data": {
      "text/plain": [
       "array(['계양구', '부평구', '고양시', '미추홀구', '부천시', '강서구', '중구', '남동구', '양천구',\n",
       "       '마포구', '은평구', '연수구', '영등포구', '구로구', '서대문구', '금천구', '시흥시', '광명시',\n",
       "       '종로구', '관악구', '동작구', '용산구', '강북구', '강남구', '성북구', '서초구', '노원구',\n",
       "       '동대문구', '성동구', '의정부시', '도봉구', '안양시', '중랑구', '광진구', '안산시', '송파구',\n",
       "       '군포시', '강동구', '양주시', '남양주시', '성남시', '의왕시', '수원시', '동두천시', '용인시',\n",
       "       '하남시', '화성시', '오산시', '평택시', '당진시', '서산시', '천안시', '안성시', '아산시',\n",
       "       '청주시', '절재로', '공주시', '세종시', '유성구', '서구', '대덕구', '동구', '군산시', '논산시',\n",
       "       '전주시', '달서구', '북구', '수성구', '거창군', '남구', '광산구', '달성군', '경산시', '진주시',\n",
       "       '나주시', '포항시', '목포시', '창원시', '태백시', '김해시', '울주군', '부산진구', '동래구',\n",
       "       '연제구', '무안군', '양산시', '사상구', '기장군', '해운대구', '수영구', '금정구', '사하구',\n",
       "       '제주시', '통영시', '거제시', '영도구'], dtype=object)"
      ]
     },
     "execution_count": 46,
     "metadata": {},
     "output_type": "execute_result"
    }
   ],
   "source": [
    "addr['군구'].unique()"
   ]
  },
  {
   "cell_type": "code",
   "execution_count": 47,
   "metadata": {},
   "outputs": [
    {
     "data": {
      "text/html": [
       "<div>\n",
       "<style scoped>\n",
       "    .dataframe tbody tr th:only-of-type {\n",
       "        vertical-align: middle;\n",
       "    }\n",
       "\n",
       "    .dataframe tbody tr th {\n",
       "        vertical-align: top;\n",
       "    }\n",
       "\n",
       "    .dataframe thead th {\n",
       "        text-align: right;\n",
       "    }\n",
       "</style>\n",
       "<table border=\"1\" class=\"dataframe\">\n",
       "  <thead>\n",
       "    <tr style=\"text-align: right;\">\n",
       "      <th></th>\n",
       "      <th>시도</th>\n",
       "      <th>군구</th>\n",
       "    </tr>\n",
       "  </thead>\n",
       "  <tbody>\n",
       "    <tr>\n",
       "      <th>415</th>\n",
       "      <td>울산광역시</td>\n",
       "      <td>울주군</td>\n",
       "    </tr>\n",
       "    <tr>\n",
       "      <th>461</th>\n",
       "      <td>울산광역시</td>\n",
       "      <td>울주군</td>\n",
       "    </tr>\n",
       "  </tbody>\n",
       "</table>\n",
       "</div>"
      ],
      "text/plain": [
       "        시도   군구\n",
       "415  울산광역시  울주군\n",
       "461  울산광역시  울주군"
      ]
     },
     "execution_count": 47,
     "metadata": {},
     "output_type": "execute_result"
    }
   ],
   "source": [
    "addr[addr['군구'] == '울주군']"
   ]
  },
  {
   "cell_type": "code",
   "execution_count": 48,
   "metadata": {},
   "outputs": [
    {
     "data": {
      "text/html": [
       "<div>\n",
       "<style scoped>\n",
       "    .dataframe tbody tr th:only-of-type {\n",
       "        vertical-align: middle;\n",
       "    }\n",
       "\n",
       "    .dataframe tbody tr th {\n",
       "        vertical-align: top;\n",
       "    }\n",
       "\n",
       "    .dataframe thead th {\n",
       "        text-align: right;\n",
       "    }\n",
       "</style>\n",
       "<table border=\"1\" class=\"dataframe\">\n",
       "  <thead>\n",
       "    <tr style=\"text-align: right;\">\n",
       "      <th></th>\n",
       "      <th>시도</th>\n",
       "      <th>군구</th>\n",
       "      <th>시도군구</th>\n",
       "    </tr>\n",
       "  </thead>\n",
       "  <tbody>\n",
       "    <tr>\n",
       "      <th>0</th>\n",
       "      <td>인천광역시</td>\n",
       "      <td>계양구</td>\n",
       "      <td>인천광역시 계양구</td>\n",
       "    </tr>\n",
       "    <tr>\n",
       "      <th>1</th>\n",
       "      <td>인천광역시</td>\n",
       "      <td>부평구</td>\n",
       "      <td>인천광역시 부평구</td>\n",
       "    </tr>\n",
       "    <tr>\n",
       "      <th>2</th>\n",
       "      <td>인천광역시</td>\n",
       "      <td>부평구</td>\n",
       "      <td>인천광역시 부평구</td>\n",
       "    </tr>\n",
       "    <tr>\n",
       "      <th>3</th>\n",
       "      <td>인천광역시</td>\n",
       "      <td>부평구</td>\n",
       "      <td>인천광역시 부평구</td>\n",
       "    </tr>\n",
       "    <tr>\n",
       "      <th>4</th>\n",
       "      <td>경기도</td>\n",
       "      <td>고양시</td>\n",
       "      <td>경기도 고양시</td>\n",
       "    </tr>\n",
       "  </tbody>\n",
       "</table>\n",
       "</div>"
      ],
      "text/plain": [
       "      시도   군구       시도군구\n",
       "0  인천광역시  계양구  인천광역시 계양구\n",
       "1  인천광역시  부평구  인천광역시 부평구\n",
       "2  인천광역시  부평구  인천광역시 부평구\n",
       "3  인천광역시  부평구  인천광역시 부평구\n",
       "4    경기도  고양시    경기도 고양시"
      ]
     },
     "execution_count": 48,
     "metadata": {},
     "output_type": "execute_result"
    }
   ],
   "source": [
    "addr['시도군구'] = addr.apply(lambda r: r['시도'] + ' ' + r['군구'], axis=1)\n",
    "\n",
    "addr.head() #작업 확인용 출력"
   ]
  },
  {
   "cell_type": "code",
   "execution_count": 49,
   "metadata": {},
   "outputs": [
    {
     "data": {
      "text/html": [
       "<div>\n",
       "<style scoped>\n",
       "    .dataframe tbody tr th:only-of-type {\n",
       "        vertical-align: middle;\n",
       "    }\n",
       "\n",
       "    .dataframe tbody tr th {\n",
       "        vertical-align: top;\n",
       "    }\n",
       "\n",
       "    .dataframe thead th {\n",
       "        text-align: right;\n",
       "    }\n",
       "</style>\n",
       "<table border=\"1\" class=\"dataframe\">\n",
       "  <thead>\n",
       "    <tr style=\"text-align: right;\">\n",
       "      <th></th>\n",
       "      <th>시도</th>\n",
       "      <th>군구</th>\n",
       "      <th>시도군구</th>\n",
       "      <th>sub</th>\n",
       "    </tr>\n",
       "  </thead>\n",
       "  <tbody>\n",
       "    <tr>\n",
       "      <th>0</th>\n",
       "      <td>인천광역시</td>\n",
       "      <td>계양구</td>\n",
       "      <td>인천광역시 계양구</td>\n",
       "      <td>0</td>\n",
       "    </tr>\n",
       "    <tr>\n",
       "      <th>1</th>\n",
       "      <td>인천광역시</td>\n",
       "      <td>부평구</td>\n",
       "      <td>인천광역시 부평구</td>\n",
       "      <td>0</td>\n",
       "    </tr>\n",
       "    <tr>\n",
       "      <th>2</th>\n",
       "      <td>인천광역시</td>\n",
       "      <td>부평구</td>\n",
       "      <td>인천광역시 부평구</td>\n",
       "      <td>0</td>\n",
       "    </tr>\n",
       "    <tr>\n",
       "      <th>3</th>\n",
       "      <td>인천광역시</td>\n",
       "      <td>부평구</td>\n",
       "      <td>인천광역시 부평구</td>\n",
       "      <td>0</td>\n",
       "    </tr>\n",
       "    <tr>\n",
       "      <th>4</th>\n",
       "      <td>경기도</td>\n",
       "      <td>고양시</td>\n",
       "      <td>경기도 고양시</td>\n",
       "      <td>0</td>\n",
       "    </tr>\n",
       "  </tbody>\n",
       "</table>\n",
       "</div>"
      ],
      "text/plain": [
       "      시도   군구       시도군구  sub\n",
       "0  인천광역시  계양구  인천광역시 계양구    0\n",
       "1  인천광역시  부평구  인천광역시 부평구    0\n",
       "2  인천광역시  부평구  인천광역시 부평구    0\n",
       "3  인천광역시  부평구  인천광역시 부평구    0\n",
       "4    경기도  고양시    경기도 고양시    0"
      ]
     },
     "execution_count": 49,
     "metadata": {},
     "output_type": "execute_result"
    }
   ],
   "source": [
    "addr['sub'] = 0  \n",
    "\n",
    "addr.head() #작업 확인용 출력"
   ]
  },
  {
   "cell_type": "code",
   "execution_count": 50,
   "metadata": {},
   "outputs": [
    {
     "data": {
      "text/html": [
       "<div>\n",
       "<style scoped>\n",
       "    .dataframe tbody tr th:only-of-type {\n",
       "        vertical-align: middle;\n",
       "    }\n",
       "\n",
       "    .dataframe tbody tr th {\n",
       "        vertical-align: top;\n",
       "    }\n",
       "\n",
       "    .dataframe thead th {\n",
       "        text-align: right;\n",
       "    }\n",
       "</style>\n",
       "<table border=\"1\" class=\"dataframe\">\n",
       "  <thead>\n",
       "    <tr style=\"text-align: right;\">\n",
       "      <th></th>\n",
       "      <th>시도</th>\n",
       "      <th>군구</th>\n",
       "      <th>시도군구</th>\n",
       "      <th>sub</th>\n",
       "    </tr>\n",
       "  </thead>\n",
       "  <tbody>\n",
       "    <tr>\n",
       "      <th>0</th>\n",
       "      <td>강원도</td>\n",
       "      <td>태백시</td>\n",
       "      <td>강원도 태백시</td>\n",
       "      <td>1</td>\n",
       "    </tr>\n",
       "    <tr>\n",
       "      <th>1</th>\n",
       "      <td>경기도</td>\n",
       "      <td>고양시</td>\n",
       "      <td>경기도 고양시</td>\n",
       "      <td>19</td>\n",
       "    </tr>\n",
       "    <tr>\n",
       "      <th>2</th>\n",
       "      <td>경기도</td>\n",
       "      <td>광명시</td>\n",
       "      <td>경기도 광명시</td>\n",
       "      <td>3</td>\n",
       "    </tr>\n",
       "    <tr>\n",
       "      <th>3</th>\n",
       "      <td>경기도</td>\n",
       "      <td>군포시</td>\n",
       "      <td>경기도 군포시</td>\n",
       "      <td>2</td>\n",
       "    </tr>\n",
       "    <tr>\n",
       "      <th>4</th>\n",
       "      <td>경기도</td>\n",
       "      <td>남양주시</td>\n",
       "      <td>경기도 남양주시</td>\n",
       "      <td>1</td>\n",
       "    </tr>\n",
       "  </tbody>\n",
       "</table>\n",
       "</div>"
      ],
      "text/plain": [
       "    시도    군구      시도군구  sub\n",
       "0  강원도   태백시   강원도 태백시    1\n",
       "1  경기도   고양시   경기도 고양시   19\n",
       "2  경기도   광명시   경기도 광명시    3\n",
       "3  경기도   군포시   경기도 군포시    2\n",
       "4  경기도  남양주시  경기도 남양주시    1"
      ]
     },
     "execution_count": 50,
     "metadata": {},
     "output_type": "execute_result"
    }
   ],
   "source": [
    "addr_group =pd.DataFrame(addr.groupby(['시도', '군구', '시도군구'], as_index=False).count())\n",
    "\n",
    "addr_group.head()  #작업 확인용 출력"
   ]
  },
  {
   "cell_type": "code",
   "execution_count": 51,
   "metadata": {},
   "outputs": [],
   "source": [
    "addr_group.to_csv('./서브웨이_지역.csv', encoding='cp949')"
   ]
  },
  {
   "cell_type": "code",
   "execution_count": null,
   "metadata": {},
   "outputs": [],
   "source": []
  }
 ],
 "metadata": {
  "kernelspec": {
   "display_name": "Python 3",
   "language": "python",
   "name": "python3"
  },
  "language_info": {
   "codemirror_mode": {
    "name": "ipython",
    "version": 3
   },
   "file_extension": ".py",
   "mimetype": "text/x-python",
   "name": "python",
   "nbconvert_exporter": "python",
   "pygments_lexer": "ipython3",
   "version": "3.8.5"
  }
 },
 "nbformat": 4,
 "nbformat_minor": 4
}
